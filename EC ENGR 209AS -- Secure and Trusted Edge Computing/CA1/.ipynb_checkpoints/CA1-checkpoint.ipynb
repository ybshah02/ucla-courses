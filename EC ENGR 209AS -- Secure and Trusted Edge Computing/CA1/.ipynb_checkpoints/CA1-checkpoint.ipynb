{
 "cells": [
  {
   "cell_type": "markdown",
   "metadata": {
    "id": "vvHUkPgdvCja"
   },
   "source": [
    "\n",
    "## Step 1 - Convert hex to base64\n",
    "\n",
    "> The string:\n",
    "> ```\n",
    "> 49276d206b696c6c696e6720796f757220627261696e206c696b65206120706f69736f6e6f7573206d757368726f6f6d\n",
    "> ```\n",
    "> Should produce:\n",
    "> ```\n",
    "> SSdtIGtpbGxpbmcgeW91ciBicmFpbiBsaWtlIGEgcG9pc29ub3VzIG11c2hyb29t\n",
    "> ```\n",
    "> So go ahead and make that happen. You'll need to use this code for the rest of the exercises.\n",
    ">\n",
    "> ### Comment\n",
    ">\n",
    "> Always operate on raw bytes, never on encoded strings. Only use hex and base64 for pretty-printing."
   ]
  },
  {
   "cell_type": "code",
   "execution_count": 218,
   "metadata": {
    "id": "sFs0TisVvCje"
   },
   "outputs": [
    {
     "name": "stdout",
     "output_type": "stream",
     "text": [
      "SSdtIGtpbGxpbmcgeW91ciBicmFpbiBsaWtlIGEgcG9pc29ub3VzIG11c2hyb29t\n",
      "Correct!\n"
     ]
    }
   ],
   "source": [
    "import base64\n",
    "\n",
    "# The function converts a hex number using the base64 library\n",
    "# Function converts hex to raw bytes, to base64 encoring, and then to a utf-8 string format.\n",
    "\n",
    "def convert_hex_to_base(s):\n",
    "    # convert hex to raw bytes\n",
    "    s_bytes = bytes.fromhex(s)\n",
    "    # encode raw bytes to base64\n",
    "    base = base64.b64encode(s_bytes)\n",
    "    # decode base64 to string\n",
    "    return base.decode('utf-8')\n",
    "\n",
    "\n",
    "stringg = \"49276d206b696c6c696e6720796f757220627261696e206c696b65206120706f69736f6e6f7573206d757368726f6f6d\"\n",
    "print(convert_hex_to_base(stringg))\n",
    "if convert_hex_to_base(stringg) == \"SSdtIGtpbGxpbmcgeW91ciBicmFpbiBsaWtlIGEgcG9pc29ub3VzIG11c2hyb29t\":\n",
    "    print(\"Correct!\")"
   ]
  },
  {
   "cell_type": "markdown",
   "metadata": {
    "id": "h2Om5KtAvCjg"
   },
   "source": [
    "## Step 2 - Fixed XOR\n",
    "\n",
    "> Write a function that takes two equal-length buffers and produces their XOR combination.\n",
    ">\n",
    "> If your function works properly, then when you feed it the string:\n",
    "> ```\n",
    "> 1c0111001f010100061a024b53535009181c\n",
    "> ```\n",
    "> ... after hex decoding, and when XOR'd (bitwise) against:\n",
    "> ```\n",
    "> 686974207468652062756c6c277320657965\n",
    "> ```\n",
    "> ... should produce:\n",
    "> ```\n",
    "> 746865206b696420646f6e277420706c6179\n",
    "> ```"
   ]
  },
  {
   "cell_type": "code",
   "execution_count": 219,
   "metadata": {
    "id": "2RrYCku-vCjg"
   },
   "outputs": [
    {
     "name": "stdout",
     "output_type": "stream",
     "text": [
      "746865206b696420646f6e277420706c6179\n",
      "Correct!\n"
     ]
    }
   ],
   "source": [
    "# This function takes two hex strings as inputs and performs a bitwise XOR on the corresponding bytes of both inputs\n",
    "# The function returns a new hex string that represents the XOR result of the two input strings\n",
    "\n",
    "def xor(hex1, hex2):\n",
    "    \n",
    "    # convert hex to raw bytes for both buffers\n",
    "    h1_bytes = bytes.fromhex(hex1)\n",
    "    h2_bytes = bytes.fromhex(hex2)\n",
    "    \n",
    "    # get byte array of each xor'd bit using zip function that compares both buffer's bit by bit\n",
    "    byte_array = []\n",
    "    for b1, b2 in zip(h1_bytes,h2_bytes):\n",
    "        byte_array.append(b1 ^ b2)\n",
    "    \n",
    "    # creates a byte object\n",
    "    xor_bytes = bytes(byte_array)\n",
    "    \n",
    "    # convert raw bytes to hex\n",
    "    return xor_bytes.hex()\n",
    "    \n",
    "    \n",
    "res = xor('1c0111001f010100061a024b53535009181c', '686974207468652062756c6c277320657965')\n",
    "print(res)\n",
    "if res == \"746865206b696420646f6e277420706c6179\":\n",
    "    print(\"Correct!\")"
   ]
  },
  {
   "cell_type": "markdown",
   "metadata": {
    "id": "ith96_nivCjh"
   },
   "source": [
    "## Step 3 - Single-byte XOR cipher\n",
    "\n",
    "> The hex encoded string:\n",
    "> ```\n",
    "> 1b37373331363f78151b7f2b783431333d78397828372d363c78373e783a393b3736\n",
    "> ```\n",
    "> ... has been XOR'd against a single character. Find the key (which is one byte) and decrypt the message. The message is a meaningful sentence in English!\n",
    ">\n",
    "> You should write a code to find the key and decrypt the message. Don't do it manually!\n",
    ">\n",
    "> ### Comment\n",
    "> There are several mini steps to achieve this! First, you need a strategy for searching in the key space. Second, you need a test/scoring mechanism to check whether the decrypted message is  meaningful or not (i.e., detecting garbage vs. the correct output). You can read more about *\"Caesar\"* cipher to get some ideas and more background!"
   ]
  },
  {
   "cell_type": "markdown",
   "metadata": {
    "id": "cOZGQsvOvCjh"
   },
   "source": [
    "#### Description\n",
    "*A brief description of your approach. Don't just put the code. First explain what you did and WHY you did it!*\n",
    "\n",
    "<p> (your description)<br>\n",
    "...\n",
    "</p>"
   ]
  },
  {
   "cell_type": "code",
   "execution_count": 103,
   "metadata": {},
   "outputs": [
    {
     "name": "stdout",
     "output_type": "stream",
     "text": [
      "Collecting textdistance\n",
      "  Downloading textdistance-4.5.0-py3-none-any.whl (31 kB)\n",
      "Installing collected packages: textdistance\n",
      "Successfully installed textdistance-4.5.0\n",
      "\u001b[33mWARNING: You are using pip version 20.1.1; however, version 23.1.2 is available.\n",
      "You should consider upgrading via the '/Users/yash/Desktop/ec engr 209as/CA1/venv/bin/python3.11 -m pip install --upgrade pip' command.\u001b[0m\n"
     ]
    }
   ],
   "source": [
    "!pip install textdistance"
   ]
  },
  {
   "cell_type": "code",
   "execution_count": 220,
   "metadata": {
    "id": "AVj7s8zWvCji",
    "scrolled": false
   },
   "outputs": [
    {
     "name": "stdout",
     "output_type": "stream",
     "text": [
      "Key: X\n",
      "Decrypted message: Cooking MC's like a pound of bacon\n"
     ]
    }
   ],
   "source": [
    "import textdistance\n",
    "\n",
    "# Strategy for searching: \n",
    "    # Iterate through the bytes and xor each character with each byte string\n",
    "    # Check if the xor-ed output is similar to english by iterating word by word and giving a score to each word\n",
    "    # if the score is better than previously obtained scores, update the score, text, and key object to give us\n",
    "    # the best possible chance for finding the encrypted text\n",
    "# Test/Scoring Mechanism: \n",
    "    # Use textdistance library to attach a score using a list of common english words in sentences\n",
    "    # use best-score as mechanism to score the similarity of words from the cipertext and real english words\n",
    "    \n",
    "# I did this because I knew that I had to determine to what level is the text english, so I searched for a library\n",
    "# that could help me make that determiniation. I learned of the Jaro Winkler algorithm that determines\n",
    "# the distance of text to other words. Using that, I could make a scoring mechanism.\n",
    "# Then all I needed to do was iterate through the bytes and find the decrypted message\n",
    "\n",
    "def is_english_text(text):\n",
    "    # asked chatGPT for a list of common english words\n",
    "    common_english_words = [\"the\", \"be\", \"to\", \"of\", \"and\", \"in\", \"that\", \"have\", \"it\", \"for\", \"not\", \"on\", \"with\", \"he\", \"as\", \"you\", \"do\", \"at\", \"this\", \"but\", \"his\", \"by\", \"from\", \"they\", \"we\", \"say\", \"her\", \"she\", \"or\", \"will\", \"an\", \"my\", \"one\", \"all\", \"would\", \"there\", \"their\", \"what\", \"so\", \"up\", \"out\", \"if\", \"about\", \"who\", \"get\", \"which\", \"go\", \"when\", \"make\", \"can\", \"like\", \"time\", \"no\", \"just\", \"him\", \"know\", \"take\", \"people\", \"into\", \"year\", \"your\", \"good\", \"some\", \"could\", \"them\", \"see\", \"other\", \"than\", \"then\", \"now\", \"look\", \"only\", \"come\", \"its\", \"over\", \"think\", \"also\", \"back\", \"after\", \"use\", \"two\", \"how\", \"our\", \"work\", \"first\", \"well\", \"way\", \"even\", \"new\", \"want\", \"because\", \"any\", \"these\", \"give\", \"day\", \"most\", \"us\"]\n",
    "    \n",
    "    jw = textdistance.JaroWinkler()\n",
    "    score = 0\n",
    "    \n",
    "    # iterate through each word in the cipher text\n",
    "    for word in text.lower().split():\n",
    "        # iterate through the list of common english words and compare the similarity of the words\n",
    "        for en_word in common_english_words:\n",
    "            sim = jw.similarity(word, en_word)\n",
    "            # add similarity score to score\n",
    "            score += sim\n",
    "    \n",
    "    return score\n",
    "\n",
    "def find_key_and_decrypt(hex_string):\n",
    "    best_key = None\n",
    "    best_text = None\n",
    "    best_score = 0\n",
    "\n",
    "    for i in range(128):\n",
    "        # xor string with current character\n",
    "        key = bytes(i for _ in range(len(hex_string)))\n",
    "        decrypted_text = xor(hex_string, key.hex())\n",
    "\n",
    "        # convert hex back to text\n",
    "        decrypted_text = bytes.fromhex(decrypted_text).decode('utf-8', errors='ignore')\n",
    "        \n",
    "        # check if the text is english and give it a score\n",
    "        score = is_english_text(decrypted_text)\n",
    "\n",
    "        # Update the best key abd decrypted text if the current score is higher\n",
    "        if score > best_score:\n",
    "            best_score = score\n",
    "            best_decrypted_text = decrypted_text\n",
    "            best_key = chr(i)\n",
    "\n",
    "    return best_key, best_score, best_decrypted_text\n",
    "\n",
    "hex_string = \"1b37373331363f78151b7f2b783431333d78397828372d363c78373e783a393b3736\"\n",
    "key, score, decrypted_message = find_key_and_decrypt(hex_string)\n",
    "print(\"Key:\", key)\n",
    "print(\"Decrypted message:\", decrypted_message)"
   ]
  },
  {
   "cell_type": "markdown",
   "metadata": {
    "id": "WKG-XIGmvCji"
   },
   "source": [
    "## Step 4 - Detect single-character XOR\n",
    "\n",
    "> One of the 60-character strings in [this file](data/04.txt) has been encrypted by single-character XOR (each line is one string).\n",
    ">\n",
    "> Find it.\n",
    ">\n",
    "> ### Comment\n",
    "> You should use your code in Step 3 to test each line. One line should output a meaningful message. Remeber that you don't know the key either but you can find it for each line (if any). "
   ]
  },
  {
   "cell_type": "markdown",
   "metadata": {
    "id": "iQzBeSFZvCjj"
   },
   "source": [
    "#### Description\n",
    "*A brief description of your approach. Don't just put the code. First explain what you did and WHY you did it!*\n",
    "\n",
    "<p> (your description)<br>\n",
    "...\n",
    "</p>"
   ]
  },
  {
   "cell_type": "code",
   "execution_count": 222,
   "metadata": {
    "id": "WFBSPAbavCjj"
   },
   "outputs": [
    {
     "name": "stdout",
     "output_type": "stream",
     "text": [
      "Key: 5\n",
      "Decrypted message: Now that the party is jumping\n",
      "\n"
     ]
    }
   ],
   "source": [
    "# This function utilizes the find_key_and_decrypt function for each line in the file\n",
    "# Then I use the associated scores to determine what line gives the best decrypted text\n",
    "# Once that is done, then I can return the text to get the decrypted message\n",
    "def detect_single_character_xor(lines):\n",
    "    \n",
    "    best_key = None\n",
    "    best_score = float('-inf')\n",
    "    best_text = None\n",
    "    \n",
    "    # iterate through each of the lines\n",
    "    for line in lines:\n",
    "        hex_string = line.strip()\n",
    "        # call the find_key_and_decrypt function to get the associated key, score, and decrypted text\n",
    "        key, score, text = find_key_and_decrypt(hex_string)\n",
    "        if text and score > best_score:\n",
    "            best_score = score\n",
    "            best_key = key\n",
    "            best_text = text\n",
    "    \n",
    "    return best_key, best_text\n",
    "\n",
    "with open('data/04.txt') as f:\n",
    "    lines = f.readlines()\n",
    "\n",
    "key, text = detect_single_character_xor(lines)\n",
    "print(\"Key:\", key)\n",
    "print(\"Decrypted message:\", text)"
   ]
  },
  {
   "cell_type": "markdown",
   "metadata": {
    "id": "dniEEoPxvCjj"
   },
   "source": [
    "## Step 5 - Implement repeating-key XOR\n",
    "\n",
    "> Here is the opening stanza of an important work of the English language:\n",
    "> ```\n",
    "> Burning 'em, if you ain't quick and nimble\n",
    "> I go crazy when I hear a cymbal\n",
    "> ```\n",
    "> Encrypt it, under the key \"ICE\", using repeating-key XOR.\n",
    ">\n",
    "> In repeating-key XOR, you'll sequentially apply each byte of the key; the first byte of plaintext will be XOR'd against I, the next C, the next E, then I again for the 4th byte, and so on.\n",
    ">\n",
    "> It should come out to:\n",
    "> ```\n",
    "> 0b3637272a2b2e63622c2e69692a23693a2a3c6324202d623d63343c2a26226324272765272\n",
    "> a282b2f20430a652e2c652a3124333a653e2b2027630c692b20283165286326302e27282f\n",
    "> ```\n"
   ]
  },
  {
   "cell_type": "code",
   "execution_count": 226,
   "metadata": {
    "id": "oCc6YxJXvCjk"
   },
   "outputs": [
    {
     "name": "stdout",
     "output_type": "stream",
     "text": [
      "0b3637272a2b2e63622c2e69692a23693a2a3c6324202d623d63343c2a26226324272765272a282b2f20430a652e2c652a3124333a653e2b2027630c692b20283165286326302e27282f\n",
      "Correct\n"
     ]
    }
   ],
   "source": [
    "# The repeating_key_xor function takes a text and a key as input and performs the XOR operation\n",
    "# between the text and the repeating key. The de parameter controls whether the operation is\n",
    "# for encryption (False) or decryption (True) for the final function which was giving a type error when\n",
    "# calling this function. The function returns the result as a hexadecimal string.\n",
    "\n",
    "def repeating_key_xor(text, key, de=False):\n",
    "    \n",
    "    encrypted_bytes = []\n",
    "    for i in range(len(text)):\n",
    "        if de:\n",
    "            # if decrypting, convert byte from text and key to hex\n",
    "            t_byte = format(text[i], '02x')\n",
    "            k_byte = format(key[i % len(key)], '02x')\n",
    "        else:\n",
    "            # if encrypting, convert character from text and key to hex\n",
    "            t_byte = text[i].encode('utf-8').hex()\n",
    "            k_byte = key[i % len(key)].encode('utf-8').hex()\n",
    "        \n",
    "        # xor the two hex strings and append the result to the encrypted bytes\n",
    "        encrypted_bytes.append(xor(t_byte, k_byte))\n",
    "    \n",
    "    # join the string\n",
    "    return ''.join(encrypted_bytes)\n",
    "\n",
    "text = \"Burning 'em, if you ain't quick and nimble\\nI go crazy when I hear a cymbal\"\n",
    "expected = '0b3637272a2b2e63622c2e69692a23693a2a3c6324202d623d63343c2a26226324272765272a282b2f20430a652e2c652a3124333a653e2b2027630c692b20283165286326302e27282f'\n",
    "encrypted_string = repeating_key_xor(text, 'ICE')\n",
    "print(encrypted_string)\n",
    "\n",
    "if expected == encrypted_string:\n",
    "    print('Correct')\n",
    "        "
   ]
  },
  {
   "cell_type": "markdown",
   "metadata": {
    "id": "73EfoeObvCjk"
   },
   "source": [
    "## Step 6 (Main Step) - Break repeating-key XOR\n",
    "\n",
    "> There's a file [here](data/06.txt). It's been base64'd after being encrypted with repeating-key XOR.\n",
    ">\n",
    "> Decrypt it.\n",
    ">\n",
    "> Here's how:\n",
    ">\n",
    "> - Let KEYSIZE be the guessed length of the key; try values from 2 to (say) 40.\n",
    ">\n",
    "> - Write a function to compute the edit distance/Hamming distance between two strings. The Hamming distance is just the number of differing bits. The distance between:\n",
    "```\"this is a test\"```\n",
    "and\n",
    "```\"wokka wokka!!!\"```\n",
    "is 37. Make sure your code agrees before you proceed.\n",
    ">\n",
    "> - For each KEYSIZE, take the first KEYSIZE worth of bytes, and the second KEYSIZE worth of bytes, and find the edit distance between them. Normalize this result by dividing by KEYSIZE.\n",
    ">\n",
    "> - The KEYSIZE with the smallest normalized edit distance is probably the key. You could proceed perhaps with the smallest 2-3 KEYSIZE values. Or take 4 KEYSIZE blocks instead of 2 and average the distances.\n",
    ">\n",
    "> - Now that you probably know the KEYSIZE: break the ciphertext into blocks of KEYSIZE length.\n",
    ">\n",
    "> - Now transpose the blocks: make a block that is the first byte of every block, and a block that is the second byte of every block, and so on.\n",
    ">\n",
    "> - Solve each block as if it was single-character XOR. You already have code to do this.\n",
    "> For each block, the single-byte XOR key that produces the best looking histogram is the repeating-key XOR key byte for that block. Put them together and you have the key."
   ]
  },
  {
   "cell_type": "markdown",
   "metadata": {
    "id": "JdSyX_dZvCjl"
   },
   "source": [
    "#### Description\n",
    "*A brief description of your approach. Don't just put the code. First explain what you did and WHY you did it!*\n",
    "\n",
    "<p> (your description)<br>\n",
    "...\n",
    "</p>"
   ]
  },
  {
   "cell_type": "code",
   "execution_count": null,
   "metadata": {
    "id": "pi2_73UxvCjl"
   },
   "outputs": [],
   "source": [
    "# your code with comments\n",
    "from itertools import combinations\n",
    "\n",
    "# a lot of the \"why\" of what I did comes from the hint -- tried following it to the best to my degree\n",
    "# Created the hamming distance function and used weightage of different byte values to create an average\n",
    "# hamming distance for any given block size. Using that average size, we can create the most likely\n",
    "# key size and utilize that to decrypt the text using the functions we utilized before. \n",
    "\n",
    "def hamming_distance(s1, s2):\n",
    "    count = 0\n",
    "    # gets hamming distance by xor-ing the bits respectively and iterating the counter by 1 for each binary\n",
    "    # difference\n",
    "    for b1, b2 in zip(s1, s2):\n",
    "        xor_result = b1 ^ b2\n",
    "        count += bin(xor_result).count('1')\n",
    "    return count\n",
    "\n",
    "def get_weights():\n",
    "    # create a dictionary of weights for all possible byte values\n",
    "    weights = {'0': 0}\n",
    "    for i in range(1, 256):\n",
    "        weights[hex(i)[2:]] = bin(i).count('1')\n",
    "    return weights\n",
    "\n",
    "# normalize the average hamming distance for a given block size \n",
    "def get_blocks(text, size):\n",
    "    total_distance = 0\n",
    "    # divide text into 4 equal sized chunks\n",
    "    chunks = [text[i*size:(i+1)*size] for i in range(4)]\n",
    "    \n",
    "    # calculate hamming distance between all pairs of chunks and sum it up\n",
    "    for i, s1 in enumerate(chunks[:-1]):\n",
    "        for s2 in chunks[i+1:]:\n",
    "            total_distance += hamming_distance(s1, s2)\n",
    "    \n",
    "    # calculate average hamming distance and normalize by diving the block size\n",
    "    avg = total_distance / 4\n",
    "    return avg/size\n",
    "\n",
    "# find most liekly key size using the average normalized hamming distance\n",
    "def find_keysize(text, num_guesses=4):\n",
    "    scores = []\n",
    "    for size in range(2, 41):\n",
    "        score = get_blocks(text, size)\n",
    "        scores.append((score, size))\n",
    "    \n",
    "    # sort scores and return top num_guesses key sizes\n",
    "    scores.sort()\n",
    "    return scores[:num_guesses]\n",
    "\n",
    "# decrypt text with repeating key xor\n",
    "def decrypt_repeating_key_xor(text, keysize):\n",
    "    chunks = []\n",
    "    # divide text into chunks with each chunk containing every keysize\n",
    "    for i in range(keysize):\n",
    "        chunk = text[i::keysize]\n",
    "        chunks.append(chunk)\n",
    "\n",
    "    decrypted = []\n",
    "    combined_score = 0\n",
    "    \n",
    "    # find best key and decryption score for each chunk\n",
    "    for chunk in chunks:\n",
    "        guess = find_key_and_decrypt(chunk.hex())\n",
    "        decrypted.append(guess)\n",
    "        combined_score += guess[1]\n",
    "\n",
    "    # combine keys from decrypted chunks to form the entire key\n",
    "    key = b''\n",
    "    for guess in decrypted:\n",
    "        key += bytes([ord(guess[0])])\n",
    "\n",
    "    return combined_score, key\n",
    "\n",
    "def decrypt_cipher_with_repeating_key_xor():\n",
    "\n",
    "    with open('data/06.txt', 'r') as f:\n",
    "        f_contents = f.read().strip()\n",
    "\n",
    "    # decode contents\n",
    "    text = base64.b64decode(f_contents)\n",
    "    # find likely key size\n",
    "    keysizes = find_keysize(text)\n",
    "    # decrtot text using each key and store results as candidates\n",
    "    poss = []\n",
    "    for _, guess in keysizes:\n",
    "        decrypted = decrypt_repeating_key_xor(text, guess)\n",
    "        poss.append(decrypted)\n",
    "    # sort candidates by score\n",
    "    poss.sort()\n",
    "    best_poss = poss[0]\n",
    "    best_key = poss[1]\n",
    "    \n",
    "    return repeating_key_xor(text, best_key, True).decode('ascii')\n",
    "\n",
    "print(decrypt_cipher_with_repeating_key_xor())"
   ]
  },
  {
   "cell_type": "code",
   "execution_count": null,
   "metadata": {},
   "outputs": [],
   "source": []
  }
 ],
 "metadata": {
  "colab": {
   "provenance": []
  },
  "kernelspec": {
   "display_name": "Python 3 (ipykernel)",
   "language": "python",
   "name": "python3"
  },
  "language_info": {
   "codemirror_mode": {
    "name": "ipython",
    "version": 3
   },
   "file_extension": ".py",
   "mimetype": "text/x-python",
   "name": "python",
   "nbconvert_exporter": "python",
   "pygments_lexer": "ipython3",
   "version": "3.7.9"
  }
 },
 "nbformat": 4,
 "nbformat_minor": 1
}
